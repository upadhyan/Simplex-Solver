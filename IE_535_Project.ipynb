{
  "nbformat": 4,
  "nbformat_minor": 0,
  "metadata": {
    "colab": {
      "name": "IE 535 Project",
      "provenance": [],
      "collapsed_sections": []
    },
    "kernelspec": {
      "name": "python3",
      "display_name": "Python 3"
    },
    "language_info": {
      "name": "python"
    }
  },
  "cells": [
    {
      "cell_type": "markdown",
      "metadata": {
        "id": "vC12d3JWyHR8"
      },
      "source": [
        "# IE 535 Final Project\n",
        "Nakul Upadhya (PUID: 0030968801)\n",
        "## General Simplex Solver\n",
        "\n",
        "This program accepts a few inputs;\n",
        "\n",
        "$$\n",
        "\\begin{align*}\n",
        "c = \\text{co-efficients for your objective function}\n",
        "\\end{align*}\n",
        "$$\n"
      ]
    },
    {
      "cell_type": "code",
      "metadata": {
        "id": "kj3-WNRVryDQ"
      },
      "source": [
        "import numpy as np"
      ],
      "execution_count": 2,
      "outputs": []
    },
    {
      "cell_type": "code",
      "metadata": {
        "id": "wtt-SCUxj3c_",
        "colab": {
          "base_uri": "https://localhost:8080/"
        },
        "outputId": "60462726-2f38-47a6-a4f4-fb15c7b9e934"
      },
      "source": [
        "class SimplexSolver:\n",
        "  def __init__(self, c, A, b, signs, minimize = True, free = None, neg = None):\n",
        "    if isinstance(A, list):\n",
        "      A = np.array(A)\n",
        "    if isinstance(c, list):\n",
        "      c = np.array(c)\n",
        "    if isinstance(b, list):\n",
        "      b = np.array(b)\n",
        "    if isinstance(signs, list):\n",
        "      signs = np.array(signs)\n",
        "    if c.shape[0] != A.shape[1] or c.ndim != 1:\n",
        "      raise ValueError(\"Shape of objective function (c) does not match shape of constraint system (A)\")\n",
        "    if b.shape[0] != A.shape[0] or b.ndim != 1:\n",
        "      raise ValueError(\"Shape of constraint values (b) does not match shape of constraint system (A)\")\n",
        "    if b.shape[0] != signs.shape[0] or signs.ndim != 1:\n",
        "      raise ValueError(\"Shape of signs array (signs) does not match shape of of constraint values (b)\")\n",
        "    n_var = c.shape[0]\n",
        "    n_constraint = A.shape[0]\n",
        "    if free != None:\n",
        "      if isinstance(free, list):\n",
        "        free = np.array(free)\n",
        "      if free.shape[0] != n_var or free.ndim != 1:\n",
        "        raise ValueError(\"Shape of free variables (free) does not match shape of Constraint system (A)\")\n",
        "      if isinstance(free, list):\n",
        "        free = np.array(free)\n",
        "      free = free.astype(bool)\n",
        "    else:\n",
        "      free = np.zeros(n_var).astype(bool)\n",
        "    if neg != None: \n",
        "      if isinstance(neg, list):\n",
        "        neg = np.array(neg)\n",
        "      if neg.shape[0] != n_var or neg.ndim != 1:\n",
        "        raise ValueError(\"Shape of negative variables (free) does not match shape of Constraint system (A)\")\n",
        "      if isinstance(neg, list):\n",
        "        neg = np.array(neg)\n",
        "      neg = neg.astype(bool)\n",
        "    else:\n",
        "      neg = np.zeros(n_var).astype(bool)   \n",
        "    for i in range(n_var):\n",
        "      if neg[i] and free[i]:\n",
        "        exception = \"X\"+str(i+1) +\" cannot be free and <= 0 at the same time\"\n",
        "        raise ValueError(exception)\n",
        "    original_dict = {\n",
        "        'A':A,\n",
        "        'c':c,\n",
        "        'b':b,\n",
        "        'signs':signs,\n",
        "        'n_var':n_var,\n",
        "        'n_constraint':n_constraint,\n",
        "        'free':free,\n",
        "        'neg':neg,\n",
        "        'minimize':minimize\n",
        "    }\n",
        "    self.original_parameters = original_dict\n",
        "    self.A = A\n",
        "    self.c = c\n",
        "    self.b = b\n",
        "    self.neg = neg\n",
        "    self.free = free\n",
        "    self.signs = signs\n",
        "    self.tableau = None\n",
        "    self.n_var = n_var\n",
        "    self.n_constraint = n_constraint\n",
        "    self.x = np.empty(n_var)\n",
        "    self.x[:] = np.nan\n",
        "    self.objective_value = np.nan\n",
        "  def solve(self):\n",
        "    self.fix_neg()\n",
        "    self.fix_free()\n",
        "    self.add_slack()\n",
        "    self.phase1()\n",
        "    self.phase2()\n",
        "    self.decrypt_tableau()\n",
        "    return self.x, self.objective_value\n",
        "  def fix_neg(self):\n",
        "    if np.sum(self.neg) == 0:\n",
        "      return\n",
        "  def fix_free(self):\n",
        "    if np.sum(self.free) == 0:\n",
        "      return\n",
        "  def add_slack(self):\n",
        "    return\n",
        "  def phase1(self):\n",
        "    return\n",
        "  def phase2(self):\n",
        "    return\n",
        "  def decrypt_tableau(self):\n",
        "    return\n",
        "    #if self.tableau == None:\n",
        "      #raise NameError(\"Tableau for problem not created yet\")\n",
        "c = np.array([1,2])\n",
        "A = np.array([[1,2],[1,2],[1,2]])\n",
        "b = np.array([1,2,3])\n",
        "signs = np.array([\">=\", \"<=\",\"<=\"])\n",
        "free = [False, True]\n",
        "neg = [True, False]\n",
        "a = SimplexSolver(c,A,b,signs, free = free, neg = neg)\n",
        "a.solve()"
      ],
      "execution_count": 51,
      "outputs": [
        {
          "output_type": "execute_result",
          "data": {
            "text/plain": [
              "(array([nan, nan]), nan)"
            ]
          },
          "metadata": {},
          "execution_count": 51
        }
      ]
    },
    {
      "cell_type": "code",
      "metadata": {
        "colab": {
          "base_uri": "https://localhost:8080/",
          "height": 166
        },
        "id": "ISlrpNI7BLop",
        "outputId": "563ef457-32ba-4860-fe67-c8d38846c2f5"
      },
      "source": [
        "print(potato)"
      ],
      "execution_count": 46,
      "outputs": [
        {
          "output_type": "error",
          "ename": "NameError",
          "evalue": "ignored",
          "traceback": [
            "\u001b[0;31m---------------------------------------------------------------------------\u001b[0m",
            "\u001b[0;31mNameError\u001b[0m                                 Traceback (most recent call last)",
            "\u001b[0;32m<ipython-input-46-27fa315cf1c5>\u001b[0m in \u001b[0;36m<module>\u001b[0;34m()\u001b[0m\n\u001b[0;32m----> 1\u001b[0;31m \u001b[0mprint\u001b[0m\u001b[0;34m(\u001b[0m\u001b[0mpotato\u001b[0m\u001b[0;34m)\u001b[0m\u001b[0;34m\u001b[0m\u001b[0;34m\u001b[0m\u001b[0m\n\u001b[0m",
            "\u001b[0;31mNameError\u001b[0m: name 'potato' is not defined"
          ]
        }
      ]
    },
    {
      "cell_type": "markdown",
      "metadata": {
        "id": "gaTZsoGHzb3i"
      },
      "source": [
        "## Testing Models\n",
        "All models are from the [MATH 407 course from the University of Washington](https://sites.math.washington.edu/~burke/crs/407/models/index.html).\n",
        "### Problem 9: Investments over Time\n",
        "#### Description\n",
        "An investor has money-making activities A and B available at the beginning of each of the next 5 years (call them years 1 to 5). \n",
        "* Each dollar invested in A at the beginning of 1 year returns \\$1.40 (a profit of \\$0.40) \n",
        "* 2 years later (in time for immediate reinvestment). Each dollar invested in B at the beginning of 1 year returns \\$1.70 3 years later.\n",
        "\n",
        "In addition, money-making activities C and D will each be available at one time in the future. \n",
        "* Each dollar investment in C at the beginning of year 2 returns \\$1.90 at the end of year 5. \n",
        "* Each dollar invested in D at the beginning of year 5 returns \\$1.30 at the end of year 5.\n",
        "\n",
        "The investor begins with \\$50,000 and wishes to know which investment plan maximizes the amount of money that can be accumulated by the beginning of year 6. Formulate the linear programming model for this problem.\n",
        "#### Formulation"
      ]
    },
    {
      "cell_type": "code",
      "metadata": {
        "id": "ekEiebIXzp75"
      },
      "source": [
        ""
      ],
      "execution_count": null,
      "outputs": []
    },
    {
      "cell_type": "markdown",
      "metadata": {
        "id": "lB2uXaKLyzii"
      },
      "source": [
        "### Model 10: Detergent Production\n",
        "#### Description\n",
        "The Rosseral Company is a small to medium size detergent manufacturing company. It is one of several companies having production facilities for a new, nonpolluting \"washday whitener\" which goes by the name of NPW. \n",
        "* Rosseral can sell NPW to other detergent manufacturers for \\$0.80 per gallon.\n",
        "* Rosseral itself manufactures detergent that uses NPW. \n",
        "* This NPW can be purchased outside for $1.20 per gallon (shipping and handling charges have been added) or be obtained from Rosseral's own production. \n",
        "* Each gallon of detergent produced requires .1 gallon of NPW. \n",
        "* Production costs for NPW and detergent are respectively \\$0.50 and \\$0.60 per gallon. For the detergent production this cost does not include any cost for the .1 gallon of NPW used in each gallon of detergent. \n",
        "* Detergent can be sold for \\$0.70 per gallon. \n",
        "* Production capacities at Rosseral are: NPW: 10,000 gallons per month; detergent: 120,000 gallons per month. \n",
        "\n",
        "Formulate the problem of maximizing profit as a linear program and solve it.\n",
        "\n",
        "#### Formulation"
      ]
    },
    {
      "cell_type": "code",
      "metadata": {
        "id": "jnD-8BbkznB5"
      },
      "source": [
        ""
      ],
      "execution_count": null,
      "outputs": []
    }
  ]
}